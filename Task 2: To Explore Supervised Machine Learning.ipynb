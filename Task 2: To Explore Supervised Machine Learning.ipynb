{
  "nbformat": 4,
  "nbformat_minor": 0,
  "metadata": {
    "kernelspec": {
      "display_name": "Python 3",
      "language": "python",
      "name": "python3"
    },
    "language_info": {
      "codemirror_mode": {
        "name": "ipython",
        "version": 3
      },
      "file_extension": ".py",
      "mimetype": "text/x-python",
      "name": "python",
      "nbconvert_exporter": "python",
      "pygments_lexer": "ipython3",
      "version": "3.8.3"
    },
    "colab": {
      "name": "Task 2: To Explore Supervised Machine Learning.ipynb",
      "provenance": []
    }
  },
  "cells": [
    {
      "cell_type": "markdown",
      "metadata": {
        "id": "YxiejQMg9lZt",
        "colab_type": "text"
      },
      "source": [
        "## Linear Regression with Python Scikit Learn\n",
        "In this section we will see how the Python Scikit-Learn library for machine learning can be used to implement regression functions. We will start with simple linear regression involving two variables.\n",
        "\n",
        "## Task 2: To Explore Supervised Machine Learning\n",
        "In this regression task we will predict the percentage of marks that a student is expected to score based upon the number of hours they studied. This is a simple linear regression task as it involves just two variables."
      ]
    },
    {
      "cell_type": "code",
      "metadata": {
        "id": "T9wn-NmM9lZz",
        "colab_type": "code",
        "colab": {}
      },
      "source": [
        "# Importing all libraries required in this notebook\n",
        "#Libraries to analyse the data\n",
        "import pandas as pd\n",
        "import numpy as np\n",
        "#Library to pre-process the data for training the model\n",
        "from sklearn.model_selection import train_test_split\n",
        "#Importing model\n",
        "from sklearn.linear_model import LinearRegression\n",
        "#Libraries to check accuracy of your model\n",
        "from math import sqrt\n",
        "from sklearn.metrics import mean_squared_error, accuracy_score\n",
        "from sklearn.metrics import r2_score, mean_squared_error, mean_absolute_error\n",
        "#Library to visualise the data\n",
        "import matplotlib.pyplot as plt  \n",
        "%matplotlib inline"
      ],
      "execution_count": 1,
      "outputs": []
    },
    {
      "cell_type": "code",
      "metadata": {
        "id": "D2F-DxYm9laJ",
        "colab_type": "code",
        "colab": {
          "base_uri": "https://localhost:8080/",
          "height": 359
        },
        "outputId": "71b3686a-8e3d-4f36-e61c-6724a2092752"
      },
      "source": [
        "#Reading and Displaying the dataset\n",
        "df=pd.read_csv(\"http://bit.ly/w-data\")\n",
        "df.head(10)"
      ],
      "execution_count": 2,
      "outputs": [
        {
          "output_type": "execute_result",
          "data": {
            "text/html": [
              "<div>\n",
              "<style scoped>\n",
              "    .dataframe tbody tr th:only-of-type {\n",
              "        vertical-align: middle;\n",
              "    }\n",
              "\n",
              "    .dataframe tbody tr th {\n",
              "        vertical-align: top;\n",
              "    }\n",
              "\n",
              "    .dataframe thead th {\n",
              "        text-align: right;\n",
              "    }\n",
              "</style>\n",
              "<table border=\"1\" class=\"dataframe\">\n",
              "  <thead>\n",
              "    <tr style=\"text-align: right;\">\n",
              "      <th></th>\n",
              "      <th>Hours</th>\n",
              "      <th>Scores</th>\n",
              "    </tr>\n",
              "  </thead>\n",
              "  <tbody>\n",
              "    <tr>\n",
              "      <th>0</th>\n",
              "      <td>2.5</td>\n",
              "      <td>21</td>\n",
              "    </tr>\n",
              "    <tr>\n",
              "      <th>1</th>\n",
              "      <td>5.1</td>\n",
              "      <td>47</td>\n",
              "    </tr>\n",
              "    <tr>\n",
              "      <th>2</th>\n",
              "      <td>3.2</td>\n",
              "      <td>27</td>\n",
              "    </tr>\n",
              "    <tr>\n",
              "      <th>3</th>\n",
              "      <td>8.5</td>\n",
              "      <td>75</td>\n",
              "    </tr>\n",
              "    <tr>\n",
              "      <th>4</th>\n",
              "      <td>3.5</td>\n",
              "      <td>30</td>\n",
              "    </tr>\n",
              "    <tr>\n",
              "      <th>5</th>\n",
              "      <td>1.5</td>\n",
              "      <td>20</td>\n",
              "    </tr>\n",
              "    <tr>\n",
              "      <th>6</th>\n",
              "      <td>9.2</td>\n",
              "      <td>88</td>\n",
              "    </tr>\n",
              "    <tr>\n",
              "      <th>7</th>\n",
              "      <td>5.5</td>\n",
              "      <td>60</td>\n",
              "    </tr>\n",
              "    <tr>\n",
              "      <th>8</th>\n",
              "      <td>8.3</td>\n",
              "      <td>81</td>\n",
              "    </tr>\n",
              "    <tr>\n",
              "      <th>9</th>\n",
              "      <td>2.7</td>\n",
              "      <td>25</td>\n",
              "    </tr>\n",
              "  </tbody>\n",
              "</table>\n",
              "</div>"
            ],
            "text/plain": [
              "   Hours  Scores\n",
              "0    2.5      21\n",
              "1    5.1      47\n",
              "2    3.2      27\n",
              "3    8.5      75\n",
              "4    3.5      30\n",
              "5    1.5      20\n",
              "6    9.2      88\n",
              "7    5.5      60\n",
              "8    8.3      81\n",
              "9    2.7      25"
            ]
          },
          "metadata": {
            "tags": []
          },
          "execution_count": 2
        }
      ]
    },
    {
      "cell_type": "code",
      "metadata": {
        "id": "9SiO3sAt9lac",
        "colab_type": "code",
        "colab": {
          "base_uri": "https://localhost:8080/",
          "height": 295
        },
        "outputId": "f967078e-0f61-4591-d740-34abb4099e59"
      },
      "source": [
        "# Visualising the data using matplotlib\n",
        "df.plot(x='Hours', y='Scores', style='o')  \n",
        "plt.title('Hours vs Percentage')  \n",
        "plt.xlabel('Hours Studied')  \n",
        "plt.ylabel('Percentage Score')  \n",
        "plt.show()"
      ],
      "execution_count": 3,
      "outputs": [
        {
          "output_type": "display_data",
          "data": {
            "image/png": "[encoded data removed]",
            "text/plain": [
              "<Figure size 432x288 with 1 Axes>"
            ]
          },
          "metadata": {
            "tags": [],
            "needs_background": "light"
          }
        }
      ]
    },
    {
      "cell_type": "markdown",
      "metadata": {
        "id": "WTvVKdqp9las",
        "colab_type": "text"
      },
      "source": [
        "**From the above graph we can clearly see that score and hours have a positive linear relation**\n",
        "\n",
        "In the next step, we will divide the data into \"attributes\" (inputs) and \"labels\" (outputs)."
      ]
    },
    {
      "cell_type": "code",
      "metadata": {
        "id": "PAO9rkZc9lau",
        "colab_type": "code",
        "colab": {}
      },
      "source": [
        "X= df.drop(columns = ['Scores'])#X will store values of attributes(i.e. hours)\n",
        "Y= df['Scores']#Y will store values of labels(i.e Scores) \n",
        "X = np.array(X)#creating a numpy array using the attributes\n",
        "Y = np.array(Y)#creating a numpy array using the labels\n",
        "Y=Y.reshape(-1,1)#reshaping the label array \n",
        "#reshaping is done to fit the data into the model"
      ],
      "execution_count": 4,
      "outputs": []
    },
    {
      "cell_type": "code",
      "metadata": {
        "id": "-wvuAmhc9lbg",
        "colab_type": "code",
        "colab": {}
      },
      "source": [
        "#Preparing the data\n",
        "X_train, X_test, Y_train, Y_test = train_test_split(X, Y, test_size = 0.25)#splitting dataset into testing data and training data\n",
        "#75% for training and 25% for testing"
      ],
      "execution_count": 5,
      "outputs": []
    },
    {
      "cell_type": "code",
      "metadata": {
        "id": "8xJUUvw39lbz",
        "colab_type": "code",
        "colab": {
          "base_uri": "https://localhost:8080/",
          "height": 34
        },
        "outputId": "9274169e-4b05-417d-ec77-f2fb3d332d1f"
      },
      "source": [
        "#Training the Model\n",
        "LR = LinearRegression()#creating a Linear Regression Model\n",
        "LR.fit(X_train, Y_train)#Fitting the model with training data"
      ],
      "execution_count": 6,
      "outputs": [
        {
          "output_type": "execute_result",
          "data": {
            "text/plain": [
              "LinearRegression(copy_X=True, fit_intercept=True, n_jobs=None, normalize=False)"
            ]
          },
          "metadata": {
            "tags": []
          },
          "execution_count": 6
        }
      ]
    },
    {
      "cell_type": "code",
      "metadata": {
        "id": "Q5H39KST9lcC",
        "colab_type": "code",
        "colab": {
          "base_uri": "https://localhost:8080/",
          "height": 136
        },
        "outputId": "42091f25-5c30-43ae-b3e8-a1b141f6e179"
      },
      "source": [
        "Y_pred = LR.predict(X_test)#Predicting the Test results from the model\n",
        "Y_pred"
      ],
      "execution_count": 7,
      "outputs": [
        {
          "output_type": "execute_result",
          "data": {
            "text/plain": [
              "array([[54.84403377],\n",
              "       [75.5209495 ],\n",
              "       [85.40990919],\n",
              "       [27.8741437 ],\n",
              "       [22.48016568],\n",
              "       [29.67213637],\n",
              "       [74.62195316]])"
            ]
          },
          "metadata": {
            "tags": []
          },
          "execution_count": 7
        }
      ]
    },
    {
      "cell_type": "code",
      "metadata": {
        "id": "iLiLvNob9lcl",
        "colab_type": "code",
        "colab": {
          "base_uri": "https://localhost:8080/",
          "height": 265
        },
        "outputId": "db7ecdad-c033-4235-8798-9307ccd0d6eb"
      },
      "source": [
        "# Plotting the regression line\n",
        "line = LR.coef_*X+LR.intercept_\n",
        "# Plotting for the entire dataset\n",
        "plt.scatter(X, Y)\n",
        "plt.plot(X, line);\n",
        "plt.show()"
      ],
      "execution_count": 8,
      "outputs": [
        {
          "output_type": "display_data",
          "data": {
            "image/png": "[encoded data removed]",
            "text/plain": [
              "<Figure size 432x288 with 1 Axes>"
            ]
          },
          "metadata": {
            "tags": [],
            "needs_background": "light"
          }
        }
      ]
    },
    {
      "cell_type": "markdown",
      "metadata": {
        "id": "QVTJekJb9lcz",
        "colab_type": "text"
      },
      "source": [
        "## Making Pridictions\n",
        "Now that we have trained our algorithm, it's time to make some predictions."
      ]
    },
    {
      "cell_type": "code",
      "metadata": {
        "id": "GWYyRfkp9lc1",
        "colab_type": "code",
        "colab": {
          "base_uri": "https://localhost:8080/",
          "height": 266
        },
        "outputId": "d2bb5896-925f-4e75-ac75-876ff2f59259"
      },
      "source": [
        "# Comparing Actual vs Predicted\n",
        "df_i = pd.DataFrame({'Actual': Y_test.flatten(), 'Predicted': Y_pred.flatten()})  \n",
        "df_i"
      ],
      "execution_count": 9,
      "outputs": [
        {
          "output_type": "execute_result",
          "data": {
            "text/html": [
              "<div>\n",
              "<style scoped>\n",
              "    .dataframe tbody tr th:only-of-type {\n",
              "        vertical-align: middle;\n",
              "    }\n",
              "\n",
              "    .dataframe tbody tr th {\n",
              "        vertical-align: top;\n",
              "    }\n",
              "\n",
              "    .dataframe thead th {\n",
              "        text-align: right;\n",
              "    }\n",
              "</style>\n",
              "<table border=\"1\" class=\"dataframe\">\n",
              "  <thead>\n",
              "    <tr style=\"text-align: right;\">\n",
              "      <th></th>\n",
              "      <th>Actual</th>\n",
              "      <th>Predicted</th>\n",
              "    </tr>\n",
              "  </thead>\n",
              "  <tbody>\n",
              "    <tr>\n",
              "      <th>0</th>\n",
              "      <td>60</td>\n",
              "      <td>54.844034</td>\n",
              "    </tr>\n",
              "    <tr>\n",
              "      <th>1</th>\n",
              "      <td>86</td>\n",
              "      <td>75.520949</td>\n",
              "    </tr>\n",
              "    <tr>\n",
              "      <th>2</th>\n",
              "      <td>95</td>\n",
              "      <td>85.409909</td>\n",
              "    </tr>\n",
              "    <tr>\n",
              "      <th>3</th>\n",
              "      <td>21</td>\n",
              "      <td>27.874144</td>\n",
              "    </tr>\n",
              "    <tr>\n",
              "      <th>4</th>\n",
              "      <td>24</td>\n",
              "      <td>22.480166</td>\n",
              "    </tr>\n",
              "    <tr>\n",
              "      <th>5</th>\n",
              "      <td>25</td>\n",
              "      <td>29.672136</td>\n",
              "    </tr>\n",
              "    <tr>\n",
              "      <th>6</th>\n",
              "      <td>85</td>\n",
              "      <td>74.621953</td>\n",
              "    </tr>\n",
              "  </tbody>\n",
              "</table>\n",
              "</div>"
            ],
            "text/plain": [
              "   Actual  Predicted\n",
              "0      60  54.844034\n",
              "1      86  75.520949\n",
              "2      95  85.409909\n",
              "3      21  27.874144\n",
              "4      24  22.480166\n",
              "5      25  29.672136\n",
              "6      85  74.621953"
            ]
          },
          "metadata": {
            "tags": []
          },
          "execution_count": 9
        }
      ]
    },
    {
      "cell_type": "code",
      "metadata": {
        "id": "N_VE2sJ39ldE",
        "colab_type": "code",
        "colab": {
          "base_uri": "https://localhost:8080/",
          "height": 51
        },
        "outputId": "8edbacce-afc7-4157-d443-d57539b0cf73"
      },
      "source": [
        "# You can also test with your own data\n",
        "hours = [[7.6]]\n",
        "own_pred = LR.predict(hours)\n",
        "print(\"No of Hours = {}\".format(hours))\n",
        "print(\"Predicted Score = {}\".format(own_pred[0]))"
      ],
      "execution_count": 10,
      "outputs": [
        {
          "output_type": "stream",
          "text": [
            "No of Hours = [[7.6]]\n",
            "Predicted Score = [73.72295683]\n"
          ],
          "name": "stdout"
        }
      ]
    },
    {
      "cell_type": "markdown",
      "metadata": {
        "id": "slwB0A2l9ldX",
        "colab_type": "text"
      },
      "source": [
        "# Evaluating the model\n",
        "The final step is to evaluate the performance of algorithm. \n",
        "\n",
        "Evaluating the model helps us to find how well did the algorithm have performed on the given dataset. Evaluation also helps us to compare different models. For simplicity here, we have chosen the mean square error. There are many such metrics available for evaluation of a model."
      ]
    },
    {
      "cell_type": "code",
      "metadata": {
        "id": "I2XswbM69ldp",
        "colab_type": "code",
        "colab": {}
      },
      "source": [
        "k = X_test.shape[1]\n",
        "n = len(X_test)\n",
        "n\n",
        "RMSE = float(format(np.sqrt(mean_squared_error(Y_test, Y_pred)), '3f'))\n",
        "MSE = mean_squared_error(Y_test, Y_pred)\n",
        "MAE = mean_absolute_error(Y_test, Y_pred)\n",
        "r2 = r2_score(Y_test, Y_pred)\n",
        "adj_r2 = 1-(1-r2)*(n-1)/(n-k-1)"
      ],
      "execution_count": 11,
      "outputs": []
    },
    {
      "cell_type": "code",
      "metadata": {
        "id": "oUuHK2st9leJ",
        "colab_type": "code",
        "colab": {
          "base_uri": "https://localhost:8080/",
          "height": 102
        },
        "outputId": "8c8e3d27-ee18-4528-8a23-7778a6da3c6b"
      },
      "source": [
        "print('Root Mean Squared Error -',RMSE, '\\nMean Squared Error -',MSE, '\\nMean Absolute Error -',MAE, '\\nR2 Score -',r2, '\\nAdjusted R2 -',adj_r2)"
      ],
      "execution_count": 12,
      "outputs": [
        {
          "output_type": "stream",
          "text": [
            "Root Mean Squared Error - 7.629462 \n",
            "Mean Squared Error - 58.20868446005505 \n",
            "Mean Absolute Error - 6.952752679851611 \n",
            "R2 Score - 0.9371756489307775 \n",
            "Adjusted R2 - 0.9246107787169331\n"
          ],
          "name": "stdout"
        }
      ]
    },
    {
      "cell_type": "code",
      "metadata": {
        "id": "ILkyt9pA9leW",
        "colab_type": "code",
        "colab": {}
      },
      "source": [
        ""
      ],
      "execution_count": 12,
      "outputs": []
    }
  ]
}